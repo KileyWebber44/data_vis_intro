{
 "cells": [
  {
   "cell_type": "code",
   "execution_count": 1,
   "metadata": {},
   "outputs": [],
   "source": [
    "import matplotlib.pyplot as plt\n",
    "import csv\n",
    "import statistics"
   ]
  },
  {
   "cell_type": "markdown",
   "metadata": {},
   "source": [
    "## Importing and Getting Started\n",
    "\n",
    "First, modules are imported.\n",
    "Then the data is opened and stored from the csv."
   ]
  },
  {
   "cell_type": "code",
   "execution_count": 2,
   "metadata": {},
   "outputs": [],
   "source": [
    "with open (\"ramen-ratings.csv\", \"r\", encoding=\"utf-8\") as file:\n",
    "    ramen_data = csv.DictReader(file)\n",
    "    data_list = [] \n",
    "    for row in ramen_data:\n",
    "        data_list.append(row)"
   ]
  },
  {
   "cell_type": "markdown",
   "metadata": {},
   "source": [
    "## Sorting Out Data\n",
    "\n",
    "Now, the data that is going to be used will be pulled out.\n",
    "\n",
    "In this case, I am looking for the amount of stars and country of origin. "
   ]
  },
  {
   "cell_type": "code",
   "execution_count": 3,
   "metadata": {},
   "outputs": [],
   "source": [
    "country_data = {}\n",
    "\n",
    "for entry in data_list:\n",
    "    if not country_data.get(entry[\"Country\"]):\n",
    "        country_data[entry[\"Country\"]] = {\"Stars\" : []}\n",
    "    country_data[entry[\"Country\"]][\"Stars\"].append(float(entry[\"Stars\"])) if entry[\"Stars\"] != \"Unrated\" else 0\n"
   ]
  },
  {
   "cell_type": "code",
   "execution_count": 4,
   "metadata": {},
   "outputs": [],
   "source": [
    "#print(country_data)"
   ]
  },
  {
   "cell_type": "markdown",
   "metadata": {},
   "source": [
    "## Doing some math!\n",
    "\n",
    "To help with the analysis, we are going to take the number of stars and try and get an average value to graph."
   ]
  },
  {
   "cell_type": "code",
   "execution_count": 5,
   "metadata": {},
   "outputs": [
    {
     "ename": "SyntaxError",
     "evalue": "invalid syntax (<ipython-input-5-6f16cf6699c1>, line 1)",
     "output_type": "error",
     "traceback": [
      "\u001b[1;36m  File \u001b[1;32m\"<ipython-input-5-6f16cf6699c1>\"\u001b[1;36m, line \u001b[1;32m1\u001b[0m\n\u001b[1;33m    average_stars = for country in country_data:\u001b[0m\n\u001b[1;37m                    ^\u001b[0m\n\u001b[1;31mSyntaxError\u001b[0m\u001b[1;31m:\u001b[0m invalid syntax\n"
     ]
    }
   ],
   "source": []
  },
  {
   "cell_type": "markdown",
   "metadata": {},
   "source": [
    "## Graphing!\n",
    "\n",
    "Here we are going to start showing the data in a graph with matpltlib"
   ]
  },
  {
   "cell_type": "code",
   "execution_count": null,
   "metadata": {},
   "outputs": [],
   "source": [
    "plt.title(\"Ramen Rankings by Country\")\n",
    "plt.xlabel(\"Country\")\n",
    "plt.ylabel(\"Average Number of Stars\")\n",
    "\n",
    "x = \n",
    "y = \n",
    "\n",
    "plt.bar(x, y)"
   ]
  },
  {
   "cell_type": "code",
   "execution_count": null,
   "metadata": {},
   "outputs": [],
   "source": []
  }
 ],
 "metadata": {
  "kernelspec": {
   "display_name": "data_vis",
   "language": "python",
   "name": "data_vis"
  },
  "language_info": {
   "codemirror_mode": {
    "name": "ipython",
    "version": 3
   },
   "file_extension": ".py",
   "mimetype": "text/x-python",
   "name": "python",
   "nbconvert_exporter": "python",
   "pygments_lexer": "ipython3",
   "version": "3.9.1"
  }
 },
 "nbformat": 4,
 "nbformat_minor": 4
}
